{
 "cells": [
  {
   "cell_type": "code",
   "execution_count": null,
   "id": "db3ee280",
   "metadata": {},
   "outputs": [],
   "source": [
    "import pandas as pd\n",
    "import cufflinks as cf\n",
    "from IPython.display import display, HTML\n",
    "\n",
    "cf.set_config_file(sharing='public', theme='ggplot', offline=True)"
   ]
  },
  {
   "cell_type": "code",
   "execution_count": null,
   "id": "5210cda7",
   "metadata": {
    "scrolled": false
   },
   "outputs": [],
   "source": [
    "# reading the csv file\n",
    "df_population_raw = pd.read_csv('population_total.csv')\n",
    "# dropping null values\n",
    "df_population_raw.dropna(inplace=True)\n",
    "# making a pivot table\n",
    "df_pivot = df_population_raw.pivot(index='year', columns='country',\n",
    "                                        values='population')\n",
    "# selecting some countries\n",
    "df_pivot = df_pivot[['United States', 'India', 'China', \n",
    "                          'Indonesia', 'Brazil']]\n",
    "# showing pivot table\n",
    "df_pivot"
   ]
  },
  {
   "cell_type": "markdown",
   "id": "4eddfee5",
   "metadata": {},
   "source": [
    "# Lineplot"
   ]
  },
  {
   "cell_type": "code",
   "execution_count": null,
   "id": "3f0c1e49",
   "metadata": {},
   "outputs": [],
   "source": [
    "df_pivot.iplot(kind='line', xTitle='Years', yTitle='Population', \n",
    "               title='Population (1955-2020)')"
   ]
  },
  {
   "cell_type": "markdown",
   "id": "9931e77a",
   "metadata": {},
   "source": [
    "# Barplot"
   ]
  },
  {
   "cell_type": "code",
   "execution_count": null,
   "id": "48a6e884",
   "metadata": {},
   "outputs": [],
   "source": [
    "# selecting only one year (2020)\n",
    "df_pivot_2020 = df_pivot[df_pivot.index.isin([2020])]\n",
    "# transpose dataframe from rows to columns or viceversa\n",
    "df_pivot_2020 = df_pivot_2020.T"
   ]
  },
  {
   "cell_type": "code",
   "execution_count": null,
   "id": "847ec9e4",
   "metadata": {},
   "outputs": [],
   "source": [
    "df_pivot_2020.iplot(kind='bar', color='lightgreen',\n",
    "                    xTitle='Years', yTitle='Population')"
   ]
  },
  {
   "cell_type": "markdown",
   "id": "b7307fef",
   "metadata": {},
   "source": [
    "## Barplot grouped by “n” variables"
   ]
  },
  {
   "cell_type": "code",
   "execution_count": null,
   "id": "b4e043a6",
   "metadata": {},
   "outputs": [],
   "source": [
    "# selecting a few years\n",
    "df_pivot_sample = df_pivot[df_pivot.index.isin([1980, 1990, 2000, 2010, 2020])]"
   ]
  },
  {
   "cell_type": "code",
   "execution_count": null,
   "id": "673c5ad4",
   "metadata": {},
   "outputs": [],
   "source": [
    "df_pivot_sample.iplot(kind='bar')"
   ]
  },
  {
   "cell_type": "markdown",
   "id": "7968b9a4",
   "metadata": {},
   "source": [
    "# Piechart"
   ]
  },
  {
   "cell_type": "code",
   "execution_count": null,
   "id": "7bebdb83",
   "metadata": {},
   "outputs": [],
   "source": [
    "# changing column name \n",
    "df_pivot_2020.rename(columns={2020:'2020'}, inplace=True)"
   ]
  },
  {
   "cell_type": "code",
   "execution_count": null,
   "id": "68c949a0",
   "metadata": {},
   "outputs": [],
   "source": [
    "df_pivot_2020 = df_pivot_2020.reset_index()"
   ]
  },
  {
   "cell_type": "code",
   "execution_count": null,
   "id": "bf71522f",
   "metadata": {},
   "outputs": [],
   "source": [
    "df_pivot_2020.iplot(kind='pie', values='2020', labels='country')"
   ]
  },
  {
   "cell_type": "markdown",
   "id": "a6f5aff6",
   "metadata": {},
   "source": [
    "# Boxplot"
   ]
  },
  {
   "cell_type": "code",
   "execution_count": null,
   "id": "1d0b781b",
   "metadata": {},
   "outputs": [],
   "source": [
    "df_pivot['United States'].iplot(kind='box', color='green',\n",
    "                                yTitle='Population')"
   ]
  },
  {
   "cell_type": "code",
   "execution_count": null,
   "id": "828a47a5",
   "metadata": {
    "scrolled": false
   },
   "outputs": [],
   "source": [
    "df_pivot.iplot(kind='box', yTitle='Population')"
   ]
  },
  {
   "cell_type": "markdown",
   "id": "990cb0ce",
   "metadata": {},
   "source": [
    "# Histogram"
   ]
  },
  {
   "cell_type": "code",
   "execution_count": null,
   "id": "d993a996",
   "metadata": {},
   "outputs": [],
   "source": [
    "df_pivot[['United States', 'Indonesia']].iplot(kind='hist', xTitle='Population',\n",
    "                                bins=3)"
   ]
  },
  {
   "cell_type": "markdown",
   "id": "4415b9d7",
   "metadata": {},
   "source": [
    "# ScatterPlot"
   ]
  },
  {
   "cell_type": "code",
   "execution_count": null,
   "id": "6efa5f6e",
   "metadata": {},
   "outputs": [],
   "source": [
    "df_pivot.iplot(kind='scatter', mode='markers')"
   ]
  }
 ],
 "metadata": {
  "kernelspec": {
   "display_name": "Python 3",
   "language": "python",
   "name": "python3"
  },
  "language_info": {
   "codemirror_mode": {
    "name": "ipython",
    "version": 3
   },
   "file_extension": ".py",
   "mimetype": "text/x-python",
   "name": "python",
   "nbconvert_exporter": "python",
   "pygments_lexer": "ipython3",
   "version": "3.8.8"
  },
  "toc": {
   "base_numbering": 1,
   "nav_menu": {},
   "number_sections": true,
   "sideBar": true,
   "skip_h1_title": false,
   "title_cell": "Table of Contents",
   "title_sidebar": "Contents",
   "toc_cell": false,
   "toc_position": {},
   "toc_section_display": true,
   "toc_window_display": false
  }
 },
 "nbformat": 4,
 "nbformat_minor": 5
}
